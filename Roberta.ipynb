{
 "cells": [
  {
   "cell_type": "markdown",
   "metadata": {},
   "source": [
    "Roberta Modell\n",
    "\n",
    "Wichtig: \n",
    "- filme_rezensionen_extendet.json muss im selben Verzeichnis liegen wie dieses Notebook\n",
    "- die Modelle sind entsprechenden Personen zugeteilt. Zum ausführen jeweils # entfernen. Nach dem Durchlauf wird automatisch eine CSV mit den Sentiments gespeichert. Bitte die CSV dann mir zusenden bzw. in die Cloud laden und mir Bescheid geben.\n",
    "\n",
    "Danke!!!"
   ]
  },
  {
   "cell_type": "code",
   "execution_count": null,
   "metadata": {},
   "outputs": [],
   "source": [
    "import pandas as pd\n",
    "import json\n",
    "\n"
   ]
  },
  {
   "cell_type": "code",
   "execution_count": null,
   "metadata": {},
   "outputs": [],
   "source": [
    "file_path=\"filme_rezensionen_extendet.json\"\n",
    "with open(file_path, 'r', encoding='utf-8') as f:\n",
    "    data = json.load(f)"
   ]
  },
  {
   "cell_type": "code",
   "execution_count": null,
   "metadata": {},
   "outputs": [],
   "source": [
    "list_rows = [] #Liste für Zeilendaten\n",
    "\n",
    "for film_id, film_info in data.items():          #Interation durch jedes Filmobjekt\n",
    "    kategorie = ', '.join(film_info.get('kategorie', []))\n",
    "    gesamtbewertung = film_info.get('gesamtbewertung', [])\n",
    "    for rezension in film_info['rezensionen']: #für jede Rezension wird neues Dictionary erstellt\n",
    "        \n",
    "        row ={ \n",
    "            'film_id':film_id,\n",
    "            'titel': film_info['titel'],\n",
    "            'jahr': film_info['jahr'],\n",
    "            'kategorie':kategorie,\n",
    "            'review_id': rezension['data-review-id'],\n",
    "            'username': rezension['username'],\n",
    "            'gesamtbewertung': gesamtbewertung,\n",
    "            'rating': rezension['rating'],\n",
    "            'date': rezension['date'],\n",
    "            'review_caption':rezension['title'],\n",
    "            'bewertung':rezension['text']\n",
    "        }\n",
    "        list_rows.append(row)           # jedes Dictionary wird der Liste zugefügt\n",
    "\n",
    "StarWars = pd.DataFrame(list_rows)     # jedes Dictionary wird als Zeile dem Pandas DataFrame hinzugefügt\n",
    "\n",
    "StarWars['ID'] = range(1, len(StarWars) + 1) # einen Index hinzufügen und an die erste Position setzen\n",
    "StarWars['ID'] = StarWars['ID'].astype(str)\n",
    "spalten = ['ID'] + [spalte for spalte in StarWars.columns if spalte != 'ID']\n",
    "StarWars = StarWars[spalten]\n",
    "StarWars.head()\n",
    "        "
   ]
  },
  {
   "cell_type": "code",
   "execution_count": null,
   "metadata": {},
   "outputs": [],
   "source": [
    "StarWars['date'] = pd.to_datetime(StarWars['date'], format='%d %B %Y') # Datum umwandeln\n",
    "StarWars['rating'] = pd.to_numeric(StarWars['rating'], errors='coerce') #in numerische Daten umwandeln\n",
    "StarWars['gesamtbewertung'] = pd.to_numeric(StarWars['gesamtbewertung'], errors='coerce')\n",
    "\n",
    "StarWars['titel'] =StarWars['titel'].replace('Das Imperium schlägt zurück', 'Star Wars: Episode V - Das Imperium schlägt zurück')\n",
    "StarWars['titel'] =StarWars['titel'].replace('Krieg der Sterne', 'Star Wars: Episode IV - Krieg der Sterne')\n",
    "StarWars['titel'] =StarWars['titel'].replace('Die Rückkehr der Jedi-Ritter', 'Star Wars: Episode VI - Die Rückkehr der Jedi-Ritter')\n",
    "StarWars['titel'] =StarWars['titel'].replace('Kampf um Endor', 'Star Wars: Ewoks - Kampf um Endor')\n",
    "StarWars['titel'] =StarWars['titel'].replace('Star Wars - Episode VII: Das Erwachen der Macht', 'Star Wars: Episode VII - Das Erwachen der Macht')\n",
    "StarWars['titel'] =StarWars['titel'].replace('Star Wars - Episode IX: Der Aufstieg Skywalkers', 'Star Wars: Episode IX - Der Aufstieg Skywalkers')\n",
    "StarWars['titel'] =StarWars['titel'].replace('Star Wars - Episode VIII: Die letzten Jedi', 'Star Wars: Episode VIII - Die letzten Jedi')\n",
    "\n",
    "StarWars['rating_na'] = StarWars['rating'].isna() #einfügen einer Spalte, die TRUE für NA Werte in 'Rating' setzt\n",
    "NaN_Filme_Rating = StarWars.groupby(['film_id', 'titel'])['rating_na'].sum() #Anzahl NA Werte gruppiert nach Film\n",
    "\n",
    "StarWars.dropna(subset=['rating'], inplace=True)\n",
    "\n",
    "NaN_Filme_Gesamtbewertung = StarWars[StarWars['gesamtbewertung'].isna()]\n",
    "\n",
    "film = 'Star Wars: Episode III - Die Rache der Sith' # Kategorie und Gesamtbewertung bei Episode 3 fehlt -> hinzufügen\n",
    "\n",
    "kategorie_add = 'Action, Abenteuer, Fantasy'\n",
    "gesamtbewertung_add = 7.6\n",
    "StarWars.loc[StarWars['titel'] == film, 'kategorie'] = kategorie_add\n",
    "StarWars.loc[StarWars['titel'] == film, 'gesamtbewertung'] = gesamtbewertung_add\n",
    "\n",
    "StarWars['film_id'] = StarWars['film_id'].replace({'tt1185834': 'tt0458290'})\n",
    "\n",
    "titel_entfernen = ['Star Wars: Larry', 'Star Wars: Die Abenteuer der jungen Jedi']\n",
    "StarWars = StarWars[~StarWars['titel'].isin(titel_entfernen)]\n",
    "\n",
    "del StarWars['rating_na']"
   ]
  },
  {
   "cell_type": "code",
   "execution_count": null,
   "metadata": {},
   "outputs": [],
   "source": [
    "#ggf. müssen bestimmte Pakete zunächst installiert werden\n",
    "\n",
    "from transformers import AutoTokenizer\n",
    "from transformers import AutoModelForSequenceClassification\n",
    "from scipy.special import softmax\n",
    "from tqdm import tqdm\n",
    "tqdm.pandas()"
   ]
  },
  {
   "cell_type": "code",
   "execution_count": null,
   "metadata": {},
   "outputs": [],
   "source": [
    "# Laden des vortrainierten Sentiment-Modells\n",
    "sentiment_model = f\"cardiffnlp/twitter-roberta-base-sentiment-latest\"\n",
    "tokenizer = AutoTokenizer.from_pretrained(sentiment_model)\n",
    "model = AutoModelForSequenceClassification.from_pretrained(sentiment_model)"
   ]
  },
  {
   "cell_type": "code",
   "execution_count": null,
   "metadata": {},
   "outputs": [],
   "source": [
    "StarWars_Roberta=StarWars[['ID', 'titel','gesamtbewertung','rating','bewertung']].copy()"
   ]
  },
  {
   "cell_type": "code",
   "execution_count": null,
   "metadata": {},
   "outputs": [],
   "source": [
    "def sentiment_Roberta(example):\n",
    "    encoded_text = tokenizer(example, return_tensors='pt', padding=True,  truncation=True, max_length=512)\n",
    "    output = model(**encoded_text)\n",
    "    scores = output.logits[0].detach().numpy()\n",
    "    scores = softmax(scores)\n",
    "    scores_dict = {\n",
    "        'roberta_neg': scores[0],\n",
    "        'roberta_neu': scores[1],\n",
    "        'roberta_pos': scores[2]\n",
    "    }\n",
    "    return scores_dict"
   ]
  },
  {
   "cell_type": "code",
   "execution_count": null,
   "metadata": {},
   "outputs": [],
   "source": [
    "# Datensatz splitten in viertel\n",
    "\n",
    "viertel=len(StarWars_Roberta)//4\n",
    "\n",
    "StarWars_Roberta_1 = StarWars_Roberta.iloc[:viertel]\n",
    "StarWars_Roberta_2 = StarWars_Roberta.iloc[viertel:2*viertel]\n",
    "StarWars_Roberta_3 = StarWars_Roberta.iloc[2*viertel:3*viertel]\n",
    "StarWars_Roberta_4 = StarWars_Roberta.iloc[3*viertel:]"
   ]
  },
  {
   "cell_type": "markdown",
   "metadata": {},
   "source": [
    "Ivo: Roberta_2 (Hastags entsprechend entfernen zum laden)"
   ]
  },
  {
   "cell_type": "code",
   "execution_count": null,
   "metadata": {},
   "outputs": [],
   "source": [
    "\n",
    "\n",
    "#StarWars_Roberta_2[['roberta_neg','roberta_neu','roberta_pos']] = StarWars_Roberta_2['bewertung'].progress_apply(lambda x: pd.Series(sentiment_Roberta(x)))\n",
    "#StarWars_Roberta_2.to_csv('StarWars_Roberta_2.csv', index=False)"
   ]
  },
  {
   "cell_type": "markdown",
   "metadata": {},
   "source": [
    "Miki: Roberta_3 (Hastags entsprechend entfernen zum laden)"
   ]
  },
  {
   "cell_type": "code",
   "execution_count": null,
   "metadata": {},
   "outputs": [],
   "source": [
    "#StarWars_Roberta_3[['roberta_neg','roberta_neu','roberta_pos']] = StarWars_Roberta_3['bewertung'].progress_apply(lambda x: pd.Series(sentiment_Roberta(x)))\n",
    "#StarWars_Roberta_3.to_csv('StarWars_Roberta_3.csv', index=False)"
   ]
  },
  {
   "cell_type": "markdown",
   "metadata": {},
   "source": [
    "Arne: Roberta_4 (Hastags entsprechend entfernen zum laden)"
   ]
  },
  {
   "cell_type": "code",
   "execution_count": null,
   "metadata": {},
   "outputs": [],
   "source": [
    "#StarWars_Roberta_4[['roberta_neg','roberta_neu','roberta_pos']] = StarWars_Roberta_4['bewertung'].progress_apply(lambda x: pd.Series(sentiment_Roberta(x)))\n",
    "#StarWars_Roberta_4.to_csv('StarWars_Roberta_4.csv', index=False)"
   ]
  }
 ],
 "metadata": {
  "kernelspec": {
   "display_name": "base",
   "language": "python",
   "name": "python3"
  },
  "language_info": {
   "name": "python",
   "version": "3.10.9"
  }
 },
 "nbformat": 4,
 "nbformat_minor": 2
}
